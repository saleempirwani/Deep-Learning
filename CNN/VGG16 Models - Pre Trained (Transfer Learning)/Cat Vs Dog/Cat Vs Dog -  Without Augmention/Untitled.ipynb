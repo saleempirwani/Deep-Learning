{
 "cells": [
  {
   "cell_type": "code",
   "execution_count": 54,
   "metadata": {},
   "outputs": [],
   "source": [
    "import numpy as np, os\n",
    "\n",
    "from tensorflow.keras.models import load_model\n",
    "from tensorflow.keras.preprocessing.image import load_img, img_to_array"
   ]
  },
  {
   "cell_type": "code",
   "execution_count": 67,
   "metadata": {},
   "outputs": [],
   "source": [
    "path_model = 'DogCat.h5'\n",
    "path_images = '/home/selim/Documents/Photos/Images/'"
   ]
  },
  {
   "cell_type": "code",
   "execution_count": 68,
   "metadata": {},
   "outputs": [],
   "source": [
    "model = load_model(path_model)\n",
    "\n",
    "target_size = (64, 64, 3)\n",
    "cat_or_dog = {0: 'Cat', 1: 'Dog'}"
   ]
  },
  {
   "cell_type": "code",
   "execution_count": 69,
   "metadata": {},
   "outputs": [],
   "source": [
    "def pre_process_image(path, target_size):\n",
    "    img = load_img(path, target_size=target_size)\n",
    "    img = img_to_array(img) / 255\n",
    "    img = img.reshape(target_size[0], target_size[1], target_size[2])\n",
    "    return np.expand_dims(img, axis=0)\n",
    "\n",
    "def predict_image(img):\n",
    "    prediction = np.argmax(model.predict(img), axis=-1)[0]\n",
    "    return cat_or_dog[prediction]"
   ]
  },
  {
   "cell_type": "code",
   "execution_count": 70,
   "metadata": {},
   "outputs": [
    {
     "name": "stdout",
     "output_type": "stream",
     "text": [
      "Cat\n",
      "Cat\n",
      "Cat\n"
     ]
    },
    {
     "name": "stderr",
     "output_type": "stream",
     "text": [
      "/home/selim/Installations/miniconda3/envs/tensorflow/lib/python3.7/site-packages/PIL/TiffImagePlugin.py:792: UserWarning: Corrupt EXIF data.  Expecting to read 4 bytes but only got 0. \n",
      "  warnings.warn(str(msg))\n"
     ]
    },
    {
     "name": "stdout",
     "output_type": "stream",
     "text": [
      "Cat\n",
      "Cat\n",
      "Cat\n"
     ]
    }
   ],
   "source": [
    "for img in os.listdir(path_images):\n",
    "    path = os.path.join(path_images, img)\n",
    "\n",
    "    img = pre_process_image(path, target_size=(64, 64, 3))\n",
    "    result = predict_image(img)\n",
    "    print(result)"
   ]
  },
  {
   "cell_type": "code",
   "execution_count": null,
   "metadata": {},
   "outputs": [],
   "source": []
  },
  {
   "cell_type": "code",
   "execution_count": null,
   "metadata": {},
   "outputs": [],
   "source": []
  }
 ],
 "metadata": {
  "kernelspec": {
   "display_name": "Python 3",
   "language": "python",
   "name": "python3"
  },
  "language_info": {
   "codemirror_mode": {
    "name": "ipython",
    "version": 3
   },
   "file_extension": ".py",
   "mimetype": "text/x-python",
   "name": "python",
   "nbconvert_exporter": "python",
   "pygments_lexer": "ipython3",
   "version": "3.7.9"
  }
 },
 "nbformat": 4,
 "nbformat_minor": 4
}
