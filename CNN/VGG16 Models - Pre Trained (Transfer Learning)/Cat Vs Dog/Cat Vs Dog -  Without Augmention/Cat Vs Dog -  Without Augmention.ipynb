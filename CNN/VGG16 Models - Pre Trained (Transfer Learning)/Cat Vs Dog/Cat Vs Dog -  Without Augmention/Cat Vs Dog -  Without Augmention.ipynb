{
 "cells": [
  {
   "cell_type": "markdown",
   "metadata": {},
   "source": [
    "# Cat Vs Dog  - VGG16 Pre Trained Model (Transfer Learning)\n",
    "\n",
    "Download Datasets: https://www.kaggle.com/c/dogs-vs-cats/data\n",
    "\n",
    "\n",
    "***NOTE: IF YOU JUST DOWNLOADED DATA, FIRST RUN THIS FOR IMAGE MANIPULATION:  \"Copying images for CNN Examples.ipynb\"***"
   ]
  },
  {
   "cell_type": "code",
   "execution_count": 69,
   "metadata": {},
   "outputs": [],
   "source": [
    "import os, numpy as np\n",
    "\n",
    "from tensorflow.keras.preprocessing.image import ImageDataGenerator\n",
    "from tensorflow.keras.applications import VGG16\n",
    "from tensorflow.keras import models\n",
    "from tensorflow.keras import layers\n",
    "from tensorflow.keras import optimizers"
   ]
  },
  {
   "cell_type": "markdown",
   "metadata": {},
   "source": [
    "### Instantiating the VGG16 convolutional base"
   ]
  },
  {
   "cell_type": "code",
   "execution_count": 4,
   "metadata": {},
   "outputs": [
    {
     "name": "stdout",
     "output_type": "stream",
     "text": [
      "Downloading data from https://storage.googleapis.com/tensorflow/keras-applications/vgg16/vgg16_weights_tf_dim_ordering_tf_kernels_notop.h5\n",
      "58892288/58889256 [==============================] - 142s 2us/step\n"
     ]
    }
   ],
   "source": [
    "conv_base = VGG16(weights='imagenet', include_top=False, input_shape=(150, 150, 3))"
   ]
  },
  {
   "cell_type": "code",
   "execution_count": 8,
   "metadata": {},
   "outputs": [
    {
     "name": "stdout",
     "output_type": "stream",
     "text": [
      "Model: \"vgg16\"\n",
      "_________________________________________________________________\n",
      "Layer (type)                 Output Shape              Param #   \n",
      "=================================================================\n",
      "input_1 (InputLayer)         [(None, 150, 150, 3)]     0         \n",
      "_________________________________________________________________\n",
      "block1_conv1 (Conv2D)        (None, 150, 150, 64)      1792      \n",
      "_________________________________________________________________\n",
      "block1_conv2 (Conv2D)        (None, 150, 150, 64)      36928     \n",
      "_________________________________________________________________\n",
      "block1_pool (MaxPooling2D)   (None, 75, 75, 64)        0         \n",
      "_________________________________________________________________\n",
      "block2_conv1 (Conv2D)        (None, 75, 75, 128)       73856     \n",
      "_________________________________________________________________\n",
      "block2_conv2 (Conv2D)        (None, 75, 75, 128)       147584    \n",
      "_________________________________________________________________\n",
      "block2_pool (MaxPooling2D)   (None, 37, 37, 128)       0         \n",
      "_________________________________________________________________\n",
      "block3_conv1 (Conv2D)        (None, 37, 37, 256)       295168    \n",
      "_________________________________________________________________\n",
      "block3_conv2 (Conv2D)        (None, 37, 37, 256)       590080    \n",
      "_________________________________________________________________\n",
      "block3_conv3 (Conv2D)        (None, 37, 37, 256)       590080    \n",
      "_________________________________________________________________\n",
      "block3_pool (MaxPooling2D)   (None, 18, 18, 256)       0         \n",
      "_________________________________________________________________\n",
      "block4_conv1 (Conv2D)        (None, 18, 18, 512)       1180160   \n",
      "_________________________________________________________________\n",
      "block4_conv2 (Conv2D)        (None, 18, 18, 512)       2359808   \n",
      "_________________________________________________________________\n",
      "block4_conv3 (Conv2D)        (None, 18, 18, 512)       2359808   \n",
      "_________________________________________________________________\n",
      "block4_pool (MaxPooling2D)   (None, 9, 9, 512)         0         \n",
      "_________________________________________________________________\n",
      "block5_conv1 (Conv2D)        (None, 9, 9, 512)         2359808   \n",
      "_________________________________________________________________\n",
      "block5_conv2 (Conv2D)        (None, 9, 9, 512)         2359808   \n",
      "_________________________________________________________________\n",
      "block5_conv3 (Conv2D)        (None, 9, 9, 512)         2359808   \n",
      "_________________________________________________________________\n",
      "block5_pool (MaxPooling2D)   (None, 4, 4, 512)         0         \n",
      "=================================================================\n",
      "Total params: 14,714,688\n",
      "Trainable params: 14,714,688\n",
      "Non-trainable params: 0\n",
      "_________________________________________________________________\n"
     ]
    }
   ],
   "source": [
    "conv_base.summary()"
   ]
  },
  {
   "cell_type": "markdown",
   "metadata": {},
   "source": [
    "### Extracting features using the pretrained convolutional base"
   ]
  },
  {
   "cell_type": "code",
   "execution_count": 79,
   "metadata": {},
   "outputs": [],
   "source": [
    "base_dir = '/home/selim/Documents/Datasets/CatVsDog/cats_and_dogs_small'\n",
    "train_dir = os.path.join(base_dir, 'train')\n",
    "validation_dir = os.path.join(base_dir, 'validation')\n",
    "test_dir = os.path.join(base_dir, 'test')"
   ]
  },
  {
   "cell_type": "code",
   "execution_count": 80,
   "metadata": {},
   "outputs": [],
   "source": [
    "datagen = ImageDataGenerator(rescale=1./255)\n",
    "batch_size = 20"
   ]
  },
  {
   "cell_type": "code",
   "execution_count": 81,
   "metadata": {},
   "outputs": [],
   "source": [
    "def extract_features(directory, sample_count):\n",
    "    features = np.zeros(shape=(sample_count, 4, 4, 512))\n",
    "    labels = np.zeros(shape=(sample_count))\n",
    "    generator = datagen.flow_from_directory(\n",
    "        directory, \n",
    "        target_size=(150, 150), \n",
    "        batch_size=batch_size,\n",
    "        class_mode='binary')\n",
    "    i=0\n",
    "    \n",
    "    for inputs_batch, labels_batch in generator:\n",
    "        features_batch = conv_base.predict(inputs_batch)\n",
    "        features[i * batch_size : (i + 1) * batch_size] = features_batch\n",
    "        labels[i * batch_size : (i + 1) * batch_size] = labels_batch\n",
    "        i += 1\n",
    "        if i * batch_size >= sample_count:\n",
    "            break\n",
    "    \n",
    "    return features, labels"
   ]
  },
  {
   "cell_type": "markdown",
   "metadata": {},
   "source": [
    "#### Extracting features and labels."
   ]
  },
  {
   "cell_type": "code",
   "execution_count": 18,
   "metadata": {},
   "outputs": [
    {
     "name": "stdout",
     "output_type": "stream",
     "text": [
      "Found 2000 images belonging to 2 classes.\n"
     ]
    }
   ],
   "source": [
    "train_features, train_labels = extract_features(train_dir, 2000)"
   ]
  },
  {
   "cell_type": "code",
   "execution_count": 19,
   "metadata": {},
   "outputs": [
    {
     "name": "stdout",
     "output_type": "stream",
     "text": [
      "Found 1000 images belonging to 2 classes.\n"
     ]
    }
   ],
   "source": [
    "validation_features, validation_labels = extract_features(validation_dir, 1000)"
   ]
  },
  {
   "cell_type": "code",
   "execution_count": 20,
   "metadata": {},
   "outputs": [
    {
     "name": "stdout",
     "output_type": "stream",
     "text": [
      "Found 1000 images belonging to 2 classes.\n"
     ]
    }
   ],
   "source": [
    "test_features, test_labels = extract_features(test_dir, 1000)"
   ]
  },
  {
   "cell_type": "markdown",
   "metadata": {},
   "source": [
    "#### Reshaping"
   ]
  },
  {
   "cell_type": "code",
   "execution_count": 21,
   "metadata": {},
   "outputs": [],
   "source": [
    "train_features = np.reshape(train_features, (2000, 4*4* 512))\n",
    "validation_features = np.reshape(validation_features, (1000, 4*4* 512))\n",
    "test_features = np.reshape(test_features, (1000, 4*4* 512))"
   ]
  },
  {
   "cell_type": "markdown",
   "metadata": {},
   "source": [
    "###  Defining and training the densely connected classifier"
   ]
  },
  {
   "cell_type": "code",
   "execution_count": 22,
   "metadata": {},
   "outputs": [],
   "source": [
    "model = models.Sequential()\n",
    "\n",
    "model.add(layers.Dense(256, activation='relu', input_dim=4 * 4 * 512))\n",
    "model.add(layers.Dropout(0.5))\n",
    "model.add(layers.Dense(1, activation='sigmoid'))\n",
    "model.compile(optimizer=optimizers.RMSprop(lr=2e-5), loss='binary_crossentropy', \n",
    "              metrics=['acc'])"
   ]
  },
  {
   "cell_type": "code",
   "execution_count": 23,
   "metadata": {},
   "outputs": [
    {
     "name": "stdout",
     "output_type": "stream",
     "text": [
      "Epoch 1/30\n",
      "100/100 [==============================] - 3s 34ms/step - loss: 0.5976 - acc: 0.6710 - val_loss: 0.4572 - val_acc: 0.8100\n",
      "Epoch 2/30\n",
      "100/100 [==============================] - 3s 34ms/step - loss: 0.4251 - acc: 0.8180 - val_loss: 0.3681 - val_acc: 0.8540\n",
      "Epoch 3/30\n",
      "100/100 [==============================] - 3s 34ms/step - loss: 0.3581 - acc: 0.8570 - val_loss: 0.3233 - val_acc: 0.8810\n",
      "Epoch 4/30\n",
      "100/100 [==============================] - 3s 34ms/step - loss: 0.3144 - acc: 0.8740 - val_loss: 0.2987 - val_acc: 0.8870\n",
      "Epoch 5/30\n",
      "100/100 [==============================] - 3s 32ms/step - loss: 0.2895 - acc: 0.8830 - val_loss: 0.2841 - val_acc: 0.8930\n",
      "Epoch 6/30\n",
      "100/100 [==============================] - 3s 31ms/step - loss: 0.2670 - acc: 0.8940 - val_loss: 0.2740 - val_acc: 0.8920\n",
      "Epoch 7/30\n",
      "100/100 [==============================] - 3s 33ms/step - loss: 0.2370 - acc: 0.9110 - val_loss: 0.2680 - val_acc: 0.8910\n",
      "Epoch 8/30\n",
      "100/100 [==============================] - 3s 33ms/step - loss: 0.2302 - acc: 0.9090 - val_loss: 0.2630 - val_acc: 0.8970\n",
      "Epoch 9/30\n",
      "100/100 [==============================] - 3s 33ms/step - loss: 0.2173 - acc: 0.9220 - val_loss: 0.2547 - val_acc: 0.8990\n",
      "Epoch 10/30\n",
      "100/100 [==============================] - 3s 33ms/step - loss: 0.2055 - acc: 0.9240 - val_loss: 0.2513 - val_acc: 0.9000\n",
      "Epoch 11/30\n",
      "100/100 [==============================] - 3s 33ms/step - loss: 0.2044 - acc: 0.9240 - val_loss: 0.2485 - val_acc: 0.9040\n",
      "Epoch 12/30\n",
      "100/100 [==============================] - 3s 34ms/step - loss: 0.1874 - acc: 0.9320 - val_loss: 0.2446 - val_acc: 0.9030\n",
      "Epoch 13/30\n",
      "100/100 [==============================] - 4s 35ms/step - loss: 0.1792 - acc: 0.9380 - val_loss: 0.2614 - val_acc: 0.8920\n",
      "Epoch 14/30\n",
      "100/100 [==============================] - 3s 34ms/step - loss: 0.1729 - acc: 0.9400 - val_loss: 0.2413 - val_acc: 0.9050\n",
      "Epoch 15/30\n",
      "100/100 [==============================] - 3s 34ms/step - loss: 0.1656 - acc: 0.9435 - val_loss: 0.2417 - val_acc: 0.9000\n",
      "Epoch 16/30\n",
      "100/100 [==============================] - 3s 34ms/step - loss: 0.1619 - acc: 0.9425 - val_loss: 0.2390 - val_acc: 0.9030\n",
      "Epoch 17/30\n",
      "100/100 [==============================] - 3s 32ms/step - loss: 0.1525 - acc: 0.9480 - val_loss: 0.2472 - val_acc: 0.9040\n",
      "Epoch 18/30\n",
      "100/100 [==============================] - 3s 33ms/step - loss: 0.1457 - acc: 0.9510 - val_loss: 0.2380 - val_acc: 0.9030\n",
      "Epoch 19/30\n",
      "100/100 [==============================] - 3s 34ms/step - loss: 0.1398 - acc: 0.9520 - val_loss: 0.2366 - val_acc: 0.9070\n",
      "Epoch 20/30\n",
      "100/100 [==============================] - 3s 34ms/step - loss: 0.1353 - acc: 0.9570 - val_loss: 0.2413 - val_acc: 0.9010\n",
      "Epoch 21/30\n",
      "100/100 [==============================] - 3s 33ms/step - loss: 0.1250 - acc: 0.9590 - val_loss: 0.2392 - val_acc: 0.9030\n",
      "Epoch 22/30\n",
      "100/100 [==============================] - 3s 34ms/step - loss: 0.1206 - acc: 0.9585 - val_loss: 0.2364 - val_acc: 0.9020\n",
      "Epoch 23/30\n",
      "100/100 [==============================] - 3s 33ms/step - loss: 0.1131 - acc: 0.9675 - val_loss: 0.2475 - val_acc: 0.8980\n",
      "Epoch 24/30\n",
      "100/100 [==============================] - 3s 33ms/step - loss: 0.1142 - acc: 0.9635 - val_loss: 0.2390 - val_acc: 0.9040\n",
      "Epoch 25/30\n",
      "100/100 [==============================] - 3s 33ms/step - loss: 0.1074 - acc: 0.9650 - val_loss: 0.2395 - val_acc: 0.9040\n",
      "Epoch 26/30\n",
      "100/100 [==============================] - 3s 34ms/step - loss: 0.1040 - acc: 0.9675 - val_loss: 0.2454 - val_acc: 0.9050\n",
      "Epoch 27/30\n",
      "100/100 [==============================] - 3s 34ms/step - loss: 0.1019 - acc: 0.9675 - val_loss: 0.2447 - val_acc: 0.9030\n",
      "Epoch 28/30\n",
      "100/100 [==============================] - 3s 35ms/step - loss: 0.0972 - acc: 0.9705 - val_loss: 0.2379 - val_acc: 0.9040\n",
      "Epoch 29/30\n",
      "100/100 [==============================] - 3s 34ms/step - loss: 0.0957 - acc: 0.9735 - val_loss: 0.2529 - val_acc: 0.9020\n",
      "Epoch 30/30\n",
      "100/100 [==============================] - 3s 34ms/step - loss: 0.0905 - acc: 0.9695 - val_loss: 0.2391 - val_acc: 0.9030\n"
     ]
    }
   ],
   "source": [
    "history = model.fit(train_features, train_labels, \n",
    "                    epochs=30, batch_size=20, \n",
    "                    validation_data=(validation_features, validation_labels))"
   ]
  },
  {
   "cell_type": "code",
   "execution_count": 24,
   "metadata": {},
   "outputs": [],
   "source": [
    "model.save('catVsDogVgg16.h5')"
   ]
  },
  {
   "cell_type": "markdown",
   "metadata": {},
   "source": [
    "###  Plotting the results"
   ]
  },
  {
   "cell_type": "code",
   "execution_count": 25,
   "metadata": {},
   "outputs": [
    {
     "data": {
      "image/png": "[encoded data removed]",
      "text/plain": [
       "<Figure size 432x288 with 1 Axes>"
      ]
     },
     "metadata": {
      "needs_background": "light"
     },
     "output_type": "display_data"
    },
    {
     "data": {
      "image/png": "[encoded data removed]",
      "text/plain": [
       "<Figure size 432x288 with 1 Axes>"
      ]
     },
     "metadata": {
      "needs_background": "light"
     },
     "output_type": "display_data"
    }
   ],
   "source": [
    "import matplotlib.pyplot as plt\n",
    "\n",
    "acc = history.history['acc']\n",
    "val_acc = history.history['val_acc']\n",
    "loss = history.history['loss']\n",
    "val_loss = history.history['val_loss']\n",
    "\n",
    "epochs = range(1, len(acc) + 1)\n",
    "\n",
    "plt.plot(epochs, acc, 'bo', label='Training acc')\n",
    "plt.plot(epochs, val_acc, 'b', label='Validation acc')\n",
    "plt.title('Training and validation accuracy')\n",
    "plt.legend()\n",
    "\n",
    "plt.figure()\n",
    "\n",
    "plt.plot(epochs, loss, 'bo', label='Training loss')\n",
    "plt.plot(epochs, val_loss, 'b', label='Validation loss')\n",
    "plt.title('Training and validation loss')\n",
    "plt.legend();"
   ]
  },
  {
   "cell_type": "markdown",
   "metadata": {},
   "source": [
    "### Image Pre Processing for Recognization"
   ]
  },
  {
   "cell_type": "code",
   "execution_count": 9,
   "metadata": {},
   "outputs": [],
   "source": []
  },
  {
   "cell_type": "code",
   "execution_count": 10,
   "metadata": {},
   "outputs": [],
   "source": []
  },
  {
   "cell_type": "code",
   "execution_count": 15,
   "metadata": {},
   "outputs": [
    {
     "name": "stdout",
     "output_type": "stream",
     "text": [
      "(1, 64, 64, 3)\n",
      "[[0.99052376]]\n",
      "0\n"
     ]
    },
    {
     "data": {
      "text/plain": [
       "'Cat'"
      ]
     },
     "execution_count": 15,
     "metadata": {},
     "output_type": "execute_result"
    }
   ],
   "source": []
  },
  {
   "cell_type": "code",
   "execution_count": 16,
   "metadata": {},
   "outputs": [
    {
     "data": {
      "text/plain": [
       "array([[1]], dtype=int32)"
      ]
     },
     "execution_count": 16,
     "metadata": {},
     "output_type": "execute_result"
    }
   ],
   "source": [
    "model_cat_dog.predict_classes(img)"
   ]
  },
  {
   "cell_type": "code",
   "execution_count": null,
   "metadata": {},
   "outputs": [],
   "source": []
  },
  {
   "cell_type": "code",
   "execution_count": null,
   "metadata": {},
   "outputs": [],
   "source": []
  }
 ],
 "metadata": {
  "kernelspec": {
   "display_name": "Python 3",
   "language": "python",
   "name": "python3"
  },
  "language_info": {
   "codemirror_mode": {
    "name": "ipython",
    "version": 3
   },
   "file_extension": ".py",
   "mimetype": "text/x-python",
   "name": "python",
   "nbconvert_exporter": "python",
   "pygments_lexer": "ipython3",
   "version": "3.7.9"
  }
 },
 "nbformat": 4,
 "nbformat_minor": 4
}
